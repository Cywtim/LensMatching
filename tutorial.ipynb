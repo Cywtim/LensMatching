{
 "cells": [
  {
   "cell_type": "code",
   "execution_count": 1,
   "outputs": [],
   "source": [
    "import numpy as np\n",
    "import cv2 as cv\n",
    "from numpy import cos, sin\n",
    "from astropy.io import fits\n",
    "from astropy import units,constants\n",
    "from matplotlib import pyplot as plt\n",
    "from FindLensTemplate.FindLensTemplate import FindLensTemplate"
   ],
   "metadata": {
    "collapsed": false,
    "pycharm": {
     "name": "#%%\n"
    },
    "ExecuteTime": {
     "end_time": "2023-09-25T23:01:18.608587Z",
     "start_time": "2023-09-25T23:01:16.110076Z"
    }
   }
  },
  {
   "cell_type": "code",
   "execution_count": 2,
   "outputs": [
    {
     "data": {
      "text/plain": "'\\nIt requires a file structure like:\\nLensMatching/\\n    |\\n    |---FindLensTemplate package\\n    |\\n    ----dataset/\\n            |\\n            |---Template/\\n            |      |\\n            |      |---coadd_DESJ2125-6504_Template.fits\\n            |\\n            ----coadd_DESJ2125-6504/\\n                    |\\n                    ----coadd_DESJ2125-6504_g.fits\\n                    |\\n                    ----coadd_DESJ2125-6504_r.fits\\n                    |\\n                    ----coadd_DESJ2125-6504_i.fits\\n'"
     },
     "execution_count": 2,
     "metadata": {},
     "output_type": "execute_result"
    }
   ],
   "source": [
    "\"\"\"\n",
    "It requires a file structure like:\n",
    "LensMatching/\n",
    "    |\n",
    "    |---FindLensTemplate package\n",
    "    |\n",
    "    ----dataset/\n",
    "            |\n",
    "            |---Template/\n",
    "            |      |\n",
    "            |      |--coadd_DESJ2125-6504_Template.fits\n",
    "            |\n",
    "            ----data/\n",
    "                 |\n",
    "                 ----coadd_DESJ2125-6504_g.fits\n",
    "                 |\n",
    "                 ----coadd_DESJ2125-6504_r.fits\n",
    "                 |\n",
    "                 ----coadd_DESJ2125-6504_i.fits\n",
    "\"\"\""
   ],
   "metadata": {
    "collapsed": false,
    "ExecuteTime": {
     "end_time": "2023-09-25T23:01:18.620388Z",
     "start_time": "2023-09-25T23:01:18.613491Z"
    }
   }
  },
  {
   "cell_type": "code",
   "execution_count": 3,
   "outputs": [],
   "source": [
    "\"\"\"\n",
    "Initialize the FindLensTemplate class\n",
    "The image directory is \"dataset/coadd_DESJ2125-6504\"\n",
    "THe name of template is \"Template.fits\"\n",
    "\"\"\"\n",
    "coadd_DESJ2125_6504_find = FindLensTemplate(\"dataset/data\", \"coadd_DESJ2125-6504\",\"dataset/Template/coadd_DESJ2125-6504_template.fits\")"
   ],
   "metadata": {
    "collapsed": false,
    "ExecuteTime": {
     "end_time": "2023-09-25T23:01:18.620924Z",
     "start_time": "2023-09-25T23:01:18.618263Z"
    }
   }
  },
  {
   "cell_type": "code",
   "execution_count": 4,
   "outputs": [
    {
     "name": "stdout",
     "output_type": "stream",
     "text": [
      "[========                ] 33% 1/3\n",
      "[================        ] 66% 2/3\n",
      "[========================] 100% 3/3\n"
     ]
    }
   ],
   "source": [
    "\"\"\"\n",
    "Use the MulFilMathch to obtain the most likely position of the same pattern as Template.\n",
    "\"\"\"\n",
    "position = coadd_DESJ2125_6504_find.MulFileMatch(progress=8)"
   ],
   "metadata": {
    "collapsed": false,
    "pycharm": {
     "name": "#%%\n"
    },
    "ExecuteTime": {
     "end_time": "2023-09-25T23:01:19.166415Z",
     "start_time": "2023-09-25T23:01:18.622132Z"
    }
   }
  },
  {
   "cell_type": "code",
   "execution_count": 5,
   "outputs": [
    {
     "name": "stdout",
     "output_type": "stream",
     "text": [
      "{'coadd_DESJ2125-6504_i.fits': (897, 798), 'coadd_DESJ2125-6504_g.fits': (950, 795), 'coadd_DESJ2125-6504_r.fits': (908, 824)}\n"
     ]
    }
   ],
   "source": [
    "\"\"\"\n",
    "Print the most likely position in turns.\n",
    "\"\"\"  \n",
    "print(position)"
   ],
   "metadata": {
    "collapsed": false,
    "pycharm": {
     "name": "#%%\n"
    },
    "ExecuteTime": {
     "end_time": "2023-09-25T23:01:19.171642Z",
     "start_time": "2023-09-25T23:01:19.166180Z"
    }
   }
  },
  {
   "cell_type": "code",
   "execution_count": 5,
   "outputs": [],
   "source": [],
   "metadata": {
    "collapsed": false,
    "pycharm": {
     "name": "#%%\n"
    },
    "ExecuteTime": {
     "end_time": "2023-09-25T23:01:19.176191Z",
     "start_time": "2023-09-25T23:01:19.170201Z"
    }
   }
  }
 ],
 "metadata": {
  "kernelspec": {
   "display_name": "Python 3",
   "language": "python",
   "name": "python3"
  },
  "language_info": {
   "codemirror_mode": {
    "name": "ipython",
    "version": 2
   },
   "file_extension": ".py",
   "mimetype": "text/x-python",
   "name": "python",
   "nbconvert_exporter": "python",
   "pygments_lexer": "ipython2",
   "version": "2.7.6"
  }
 },
 "nbformat": 4,
 "nbformat_minor": 0
}
