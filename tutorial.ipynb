{
 "cells": [
  {
   "cell_type": "code",
   "execution_count": 1,
   "outputs": [],
   "source": [
    "import numpy as np\n",
    "import cv2 as cv\n",
    "from numpy import cos, sin\n",
    "from astropy.io import fits\n",
    "from astropy import units,constants\n",
    "from matplotlib import pyplot as plt\n",
    "from FindLensTemplate.FindLensTemplate import FindLensTemplate"
   ],
   "metadata": {
    "collapsed": false,
    "pycharm": {
     "name": "#%%\n"
    },
    "ExecuteTime": {
     "end_time": "2023-09-25T08:14:07.655513Z",
     "start_time": "2023-09-25T08:14:06.010661Z"
    }
   }
  },
  {
   "cell_type": "raw",
   "source": [
    "It requires a file structure like:\n",
    "LensMatching/\n",
    "    |\n",
    "    |---FindLensTemplate package\n",
    "    |\n",
    "    ----dataset/\n",
    "            |\n",
    "            ----coadd_DESJ2125-6504/\n",
    "                    |\n",
    "                    ----Template.fits\n",
    "                    |\n",
    "                    ----coadd_DESJ2125-6504_g.fits\n",
    "                    |\n",
    "                    ----coadd_DESJ2125-6504_r.fits\n",
    "                    |\n",
    "                    ----coadd_DESJ2125-6504_i.fits\n"
   ],
   "metadata": {
    "collapsed": false
   }
  },
  {
   "cell_type": "code",
   "execution_count": 2,
   "outputs": [],
   "source": [
    "\"\"\"\n",
    "Initialize the FindLensTemplate class\n",
    "The image directory is \"dataset/coadd_DESJ2125-6504\"\n",
    "THe name of template is \"Template.fits\"\n",
    "\"\"\"\n",
    "coadd_DESJ2125_6504_find = FindLensTemplate(\"dataset/coadd_DESJ2125-6504\", \"Template.fits\")"
   ],
   "metadata": {
    "collapsed": false,
    "ExecuteTime": {
     "start_time": "2023-09-25T08:14:07.656568Z"
    }
   }
  },
  {
   "cell_type": "code",
   "execution_count": 3,
   "outputs": [
    {
     "name": "stdout",
     "output_type": "stream",
     "text": [
      "dataset/coadd_DESJ2125-6504/coadd_DESJ2125-6504_i.fits\n",
      "dataset/coadd_DESJ2125-6504/coadd_DESJ2125-6504_g.fits\n",
      "dataset/coadd_DESJ2125-6504/coadd_DESJ2125-6504_r.fits\n"
     ]
    }
   ],
   "source": [
    "\"\"\"\n",
    "Use the MulFilMathch to obtain the most likely position of the same pattern as Template.\n",
    "\"\"\"\n",
    "position = coadd_DESJ2125_6504_find.MulFileMatch()"
   ],
   "metadata": {
    "collapsed": false,
    "pycharm": {
     "name": "#%%\n"
    },
    "ExecuteTime": {
     "end_time": "2023-09-25T08:14:08.277008Z",
     "start_time": "2023-09-25T08:14:07.661558Z"
    }
   }
  },
  {
   "cell_type": "code",
   "execution_count": 4,
   "outputs": [
    {
     "data": {
      "text/plain": "array([[897, 798],\n       [950, 795],\n       [908, 824]])"
     },
     "execution_count": 4,
     "metadata": {},
     "output_type": "execute_result"
    }
   ],
   "source": [
    "\"\"\"\n",
    "Print the most likely position in turns.\n",
    "\"\"\"\n",
    "print(position)"
   ],
   "metadata": {
    "collapsed": false,
    "pycharm": {
     "name": "#%%\n"
    },
    "ExecuteTime": {
     "end_time": "2023-09-25T08:14:08.293649Z",
     "start_time": "2023-09-25T08:14:08.282212Z"
    }
   }
  },
  {
   "cell_type": "code",
   "execution_count": 4,
   "outputs": [],
   "source": [],
   "metadata": {
    "collapsed": false,
    "pycharm": {
     "name": "#%%\n"
    },
    "ExecuteTime": {
     "end_time": "2023-09-25T08:14:08.293950Z",
     "start_time": "2023-09-25T08:14:08.286224Z"
    }
   }
  }
 ],
 "metadata": {
  "kernelspec": {
   "display_name": "Python 3",
   "language": "python",
   "name": "python3"
  },
  "language_info": {
   "codemirror_mode": {
    "name": "ipython",
    "version": 2
   },
   "file_extension": ".py",
   "mimetype": "text/x-python",
   "name": "python",
   "nbconvert_exporter": "python",
   "pygments_lexer": "ipython2",
   "version": "2.7.6"
  }
 },
 "nbformat": 4,
 "nbformat_minor": 0
}
