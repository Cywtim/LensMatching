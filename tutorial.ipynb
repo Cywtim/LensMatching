{
 "cells": [
  {
   "cell_type": "code",
   "execution_count": 5,
   "outputs": [],
   "source": [
    "import numpy as np\n",
    "import cv2 as cv\n",
    "from numpy import cos, sin\n",
    "from astropy.io import fits\n",
    "from astropy import units,constants\n",
    "from matplotlib import pyplot as plt\n",
    "from FindLensTemplate.FindLensTemplate import FindLensTemplate"
   ],
   "metadata": {
    "collapsed": false,
    "pycharm": {
     "name": "#%%\n"
    },
    "ExecuteTime": {
     "end_time": "2023-09-25T14:50:35.004031Z",
     "start_time": "2023-09-25T14:50:35.000852Z"
    }
   }
  },
  {
   "cell_type": "code",
   "execution_count": 6,
   "outputs": [
    {
     "data": {
      "text/plain": "'\\nIt requires a file structure like:\\nLensMatching/\\n    |\\n    |---FindLensTemplate package\\n    |\\n    ----dataset/\\n            |\\n            |---Template/\\n            |      |\\n            |      |----Template.fits\\n            |\\n            ----coadd_DESJ2125-6504/\\n                    |\\n                    ----coadd_DESJ2125-6504_g.fits\\n                    |\\n                    ----coadd_DESJ2125-6504_r.fits\\n                    |\\n                    ----coadd_DESJ2125-6504_i.fits\\n'"
     },
     "execution_count": 6,
     "metadata": {},
     "output_type": "execute_result"
    }
   ],
   "source": [
    "\"\"\"\n",
    "It requires a file structure like:\n",
    "LensMatching/\n",
    "    |\n",
    "    |---FindLensTemplate package\n",
    "    |\n",
    "    ----dataset/\n",
    "            |\n",
    "            |---Template/\n",
    "            |      |\n",
    "            |      |----Template.fits\n",
    "            |\n",
    "            ----coadd_DESJ2125-6504/\n",
    "                    |\n",
    "                    ----coadd_DESJ2125-6504_g.fits\n",
    "                    |\n",
    "                    ----coadd_DESJ2125-6504_r.fits\n",
    "                    |\n",
    "                    ----coadd_DESJ2125-6504_i.fits\n",
    "\"\"\""
   ],
   "metadata": {
    "collapsed": false,
    "ExecuteTime": {
     "end_time": "2023-09-25T14:50:35.012490Z",
     "start_time": "2023-09-25T14:50:35.010014Z"
    }
   }
  },
  {
   "cell_type": "code",
   "execution_count": 7,
   "outputs": [],
   "source": [
    "\"\"\"\n",
    "Initialize the FindLensTemplate class\n",
    "The image directory is \"dataset/coadd_DESJ2125-6504\"\n",
    "THe name of template is \"Template.fits\"\n",
    "\"\"\"\n",
    "coadd_DESJ2125_6504_find = FindLensTemplate(\"dataset/coadd_DESJ2125-6504\", \"coadd_DESJ2125-6504\",\"dataset/Template/coadd_DESJ2125-6504_template.fits\")"
   ],
   "metadata": {
    "collapsed": false,
    "ExecuteTime": {
     "end_time": "2023-09-25T14:50:35.016386Z",
     "start_time": "2023-09-25T14:50:35.014984Z"
    }
   }
  },
  {
   "cell_type": "code",
   "execution_count": 8,
   "outputs": [
    {
     "ename": "TypeError",
     "evalue": "MulFileMatch() got an unexpected keyword argument 'progress'",
     "output_type": "error",
     "traceback": [
      "\u001B[0;31m---------------------------------------------------------------------------\u001B[0m",
      "\u001B[0;31mTypeError\u001B[0m                                 Traceback (most recent call last)",
      "Cell \u001B[0;32mIn[8], line 4\u001B[0m\n\u001B[1;32m      1\u001B[0m \u001B[38;5;124;03m\"\"\"\u001B[39;00m\n\u001B[1;32m      2\u001B[0m \u001B[38;5;124;03mUse the MulFilMathch to obtain the most likely position of the same pattern as Template.\u001B[39;00m\n\u001B[1;32m      3\u001B[0m \u001B[38;5;124;03m\"\"\"\u001B[39;00m\n\u001B[0;32m----> 4\u001B[0m position \u001B[38;5;241m=\u001B[39m \u001B[43mcoadd_DESJ2125_6504_find\u001B[49m\u001B[38;5;241;43m.\u001B[39;49m\u001B[43mMulFileMatch\u001B[49m\u001B[43m(\u001B[49m\u001B[43mprogress\u001B[49m\u001B[38;5;241;43m=\u001B[39;49m\u001B[38;5;241;43m10\u001B[39;49m\u001B[43m)\u001B[49m\n",
      "\u001B[0;31mTypeError\u001B[0m: MulFileMatch() got an unexpected keyword argument 'progress'"
     ]
    }
   ],
   "source": [
    "\"\"\"\n",
    "Use the MulFileMatch to obtain the most likely position of the same pattern as Template.\n",
    "\"\"\"\n",
    "position = coadd_DESJ2125_6504_find.MulFileMatch(progress=10)"
   ],
   "metadata": {
    "collapsed": false,
    "pycharm": {
     "name": "#%%\n"
    },
    "ExecuteTime": {
     "end_time": "2023-09-25T14:50:35.060281Z",
     "start_time": "2023-09-25T14:50:35.020499Z"
    }
   }
  },
  {
   "cell_type": "code",
   "execution_count": null,
   "outputs": [],
   "source": [
    "\"\"\"\n",
    "Print the most likely position in turns.\n",
    "\"\"\"\n",
    "print(position)"
   ],
   "metadata": {
    "collapsed": false,
    "pycharm": {
     "name": "#%%\n"
    },
    "ExecuteTime": {
     "start_time": "2023-09-25T14:50:35.060990Z"
    }
   }
  },
  {
   "cell_type": "code",
   "execution_count": null,
   "outputs": [],
   "source": [],
   "metadata": {
    "collapsed": false,
    "pycharm": {
     "name": "#%%\n"
    },
    "ExecuteTime": {
     "end_time": "2023-09-25T14:50:35.062060Z",
     "start_time": "2023-09-25T14:50:35.061867Z"
    }
   }
  }
 ],
 "metadata": {
  "kernelspec": {
   "display_name": "Python 3",
   "language": "python",
   "name": "python3"
  },
  "language_info": {
   "codemirror_mode": {
    "name": "ipython",
    "version": 2
   },
   "file_extension": ".py",
   "mimetype": "text/x-python",
   "name": "python",
   "nbconvert_exporter": "python",
   "pygments_lexer": "ipython2",
   "version": "2.7.6"
  }
 },
 "nbformat": 4,
 "nbformat_minor": 0
}
