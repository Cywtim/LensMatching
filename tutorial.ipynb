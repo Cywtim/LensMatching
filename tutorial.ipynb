{
 "cells": [
  {
   "cell_type": "code",
   "execution_count": 1,
   "outputs": [],
   "source": [
    "import numpy as np\n",
    "import cv2 as cv\n",
    "from numpy import cos, sin\n",
    "from astropy.io import fits\n",
    "from astropy import units,constants\n",
    "from matplotlib import pyplot as plt\n",
    "from FindLensTemplate.FindLensTemplate import FindLensTemplate"
   ],
   "metadata": {
    "collapsed": false,
    "pycharm": {
     "name": "#%%\n"
    },
    "ExecuteTime": {
     "end_time": "2023-09-26T03:21:03.229965Z",
     "start_time": "2023-09-26T03:21:02.483450Z"
    }
   }
  },
  {
   "cell_type": "code",
   "execution_count": 2,
   "outputs": [
    {
     "data": {
      "text/plain": "'\\nIt requires a file structure like:\\nLensMatching/\\n    |\\n    |---FindLensTemplate package\\n    |\\n    ----dataset/\\n            |\\n            |---Template/\\n            |      |\\n            |      |--coadd_DESJ2125-6504_Template.fits\\n            |\\n            ----data/\\n                 |\\n                 ----coadd_DESJ2125-6504_g.fits\\n                 |\\n                 ----coadd_DESJ2125-6504_r.fits\\n                 |\\n                 ----coadd_DESJ2125-6504_i.fits\\n'"
     },
     "execution_count": 2,
     "metadata": {},
     "output_type": "execute_result"
    }
   ],
   "source": [
    "\"\"\"\n",
    "It requires a file structure like:\n",
    "LensMatching/\n",
    "    |\n",
    "    |---FindLensTemplate package\n",
    "    |\n",
    "    ----dataset/\n",
    "            |\n",
    "            |---Template/\n",
    "            |      |\n",
    "            |      |--coadd_DESJ2125-6504_Template.fits\n",
    "            |\n",
    "            ----data/\n",
    "                 |\n",
    "                 ----coadd_DESJ2125-6504_g.fits\n",
    "                 |\n",
    "                 ----coadd_DESJ2125-6504_r.fits\n",
    "                 |\n",
    "                 ----coadd_DESJ2125-6504_i.fits\n",
    "\"\"\""
   ],
   "metadata": {
    "collapsed": false,
    "ExecuteTime": {
     "end_time": "2023-09-26T03:21:03.238845Z",
     "start_time": "2023-09-26T03:21:03.233332Z"
    }
   }
  },
  {
   "cell_type": "code",
   "execution_count": 3,
   "outputs": [],
   "source": [
    "\"\"\"\n",
    "Initialize the FindLensTemplate class\n",
    "The image directory is \"dataset/data\"\n",
    "The images' prefix is \"coadd_DESJ2125-6504\"\n",
    "THe name of template is \"coadd_DESJ2125-6504_template.fits\"\n",
    "\"\"\"\n",
    "coadd_DESJ2125_6504_find = FindLensTemplate(\n",
    "    \"dataset/data\",  \"coadd_DESJ2125-6504\", \n",
    "    \"dataset/Template/coadd_DESJ2125-6504_template.fits\"\n",
    ")"
   ],
   "metadata": {
    "collapsed": false,
    "ExecuteTime": {
     "end_time": "2023-09-26T03:21:03.242683Z",
     "start_time": "2023-09-26T03:21:03.237720Z"
    }
   }
  },
  {
   "cell_type": "code",
   "execution_count": 4,
   "outputs": [
    {
     "name": "stdout",
     "output_type": "stream",
     "text": [
      "[========                ] 33% 1/3\n",
      "[================        ] 66% 2/3\n",
      "[========================] 100% 3/3\n"
     ]
    }
   ],
   "source": [
    "\"\"\"\n",
    "Use the MulFilMathch to obtain the most likely position of the same pattern as Template.\n",
    "\"\"\"\n",
    "position_dict = coadd_DESJ2125_6504_find.MulFileMatch(progress=8, prefix=2)"
   ],
   "metadata": {
    "collapsed": false,
    "pycharm": {
     "name": "#%%\n"
    },
    "ExecuteTime": {
     "end_time": "2023-09-26T03:21:03.613041Z",
     "start_time": "2023-09-26T03:21:03.241019Z"
    }
   }
  },
  {
   "cell_type": "code",
   "execution_count": 5,
   "outputs": [
    {
     "name": "stdout",
     "output_type": "stream",
     "text": [
      "{'coadd_DESJ2125-6504_i.fits': (897, 798), 'coadd_DESJ2125-6504_g.fits': (950, 795), 'coadd_DESJ2125-6504_r.fits': (908, 824)}\n"
     ]
    }
   ],
   "source": [
    "\"\"\"\n",
    "Print the most likely position in turns.\n",
    "\"\"\"  \n",
    "print(position_dict)"
   ],
   "metadata": {
    "collapsed": false,
    "pycharm": {
     "name": "#%%\n"
    },
    "ExecuteTime": {
     "end_time": "2023-09-26T03:21:03.613298Z",
     "start_time": "2023-09-26T03:21:03.604187Z"
    }
   }
  },
  {
   "cell_type": "code",
   "execution_count": 6,
   "outputs": [
    {
     "data": {
      "text/plain": "{'coadd_DESJ2125-6504_i.fits': (897, 798),\n 'coadd_DESJ2125-6504_g.fits': (950, 795),\n 'coadd_DESJ2125-6504_r.fits': (908, 824)}"
     },
     "execution_count": 6,
     "metadata": {},
     "output_type": "execute_result"
    }
   ],
   "source": [
    "position_dict"
   ],
   "metadata": {
    "collapsed": false,
    "ExecuteTime": {
     "end_time": "2023-09-26T03:21:03.613431Z",
     "start_time": "2023-09-26T03:21:03.607158Z"
    }
   }
  },
  {
   "cell_type": "code",
   "execution_count": 7,
   "outputs": [],
   "source": [
    "from FindLensTemplate.VisualLensTemplate import VisualTemp"
   ],
   "metadata": {
    "collapsed": false,
    "ExecuteTime": {
     "end_time": "2023-09-26T03:21:03.627016Z",
     "start_time": "2023-09-26T03:21:03.611988Z"
    }
   }
  },
  {
   "cell_type": "code",
   "execution_count": 8,
   "outputs": [
    {
     "ename": "TypeError",
     "evalue": "subplots() takes from 0 to 2 positional arguments but 3 were given",
     "output_type": "error",
     "traceback": [
      "\u001B[0;31m---------------------------------------------------------------------------\u001B[0m",
      "\u001B[0;31mTypeError\u001B[0m                                 Traceback (most recent call last)",
      "Cell \u001B[0;32mIn[8], line 4\u001B[0m\n\u001B[1;32m      1\u001B[0m \u001B[38;5;124;03m\"\"\"\u001B[39;00m\n\u001B[1;32m      2\u001B[0m \u001B[38;5;124;03mShow the images and found lens positions.\u001B[39;00m\n\u001B[1;32m      3\u001B[0m \u001B[38;5;124;03m\"\"\"\u001B[39;00m\n\u001B[0;32m----> 4\u001B[0m Visual_coadd_DESJ2125_6504 \u001B[38;5;241m=\u001B[39m \u001B[43mVisualLens\u001B[49m\u001B[43m(\u001B[49m\u001B[38;5;124;43m\"\u001B[39;49m\u001B[38;5;124;43mdataset/data\u001B[39;49m\u001B[38;5;124;43m\"\u001B[39;49m\u001B[43m,\u001B[49m\n\u001B[1;32m      5\u001B[0m \u001B[43m                                        \u001B[49m\u001B[43mposition_dict\u001B[49m\u001B[43m,\u001B[49m\n\u001B[1;32m      6\u001B[0m \u001B[43m                                        \u001B[49m\u001B[43mw\u001B[49m\u001B[38;5;241;43m=\u001B[39;49m\u001B[38;5;241;43m50\u001B[39;49m\u001B[43m,\u001B[49m\u001B[43m \u001B[49m\u001B[43mh\u001B[49m\u001B[38;5;241;43m=\u001B[39;49m\u001B[38;5;241;43m50\u001B[39;49m\u001B[43m,\u001B[49m\n\u001B[1;32m      7\u001B[0m \u001B[43m                                        \u001B[49m\u001B[43mncols\u001B[49m\u001B[38;5;241;43m=\u001B[39;49m\u001B[38;5;241;43m2\u001B[39;49m\u001B[43m,\u001B[49m\u001B[43mnrows\u001B[49m\u001B[38;5;241;43m=\u001B[39;49m\u001B[38;5;241;43m2\u001B[39;49m\u001B[43m,\u001B[49m\n\u001B[1;32m      8\u001B[0m \u001B[43m                                        \u001B[49m\u001B[43mfigsize\u001B[49m\u001B[38;5;241;43m=\u001B[39;49m\u001B[43m(\u001B[49m\u001B[38;5;241;43m10\u001B[39;49m\u001B[43m,\u001B[49m\u001B[38;5;241;43m10\u001B[39;49m\u001B[43m)\u001B[49m\u001B[43m)\u001B[49m\n",
      "File \u001B[0;32m~/PycharmProjects/LensMatching/FindLensTemplate/VisualLensTemplate.py:19\u001B[0m, in \u001B[0;36mVisualLens.__init__\u001B[0;34m(self, data_dir, position_dict, w, h, ncols, nrows, figsize, **kwargs)\u001B[0m\n\u001B[1;32m     17\u001B[0m \u001B[38;5;28mself\u001B[39m\u001B[38;5;241m.\u001B[39mnrows \u001B[38;5;241m=\u001B[39m nrows\n\u001B[1;32m     18\u001B[0m \u001B[38;5;28mself\u001B[39m\u001B[38;5;241m.\u001B[39mfigsize \u001B[38;5;241m=\u001B[39m figsize\n\u001B[0;32m---> 19\u001B[0m \u001B[38;5;28mself\u001B[39m\u001B[38;5;241m.\u001B[39mfig, \u001B[38;5;28mself\u001B[39m\u001B[38;5;241m.\u001B[39max \u001B[38;5;241m=\u001B[39m \u001B[43mplt\u001B[49m\u001B[38;5;241;43m.\u001B[39;49m\u001B[43msubplots\u001B[49m\u001B[43m(\u001B[49m\u001B[43mnrows\u001B[49m\u001B[43m,\u001B[49m\u001B[43m \u001B[49m\u001B[43mncols\u001B[49m\u001B[43m,\u001B[49m\u001B[43m \u001B[49m\u001B[43mfigsize\u001B[49m\u001B[43m,\u001B[49m\u001B[43m \u001B[49m\u001B[38;5;241;43m*\u001B[39;49m\u001B[38;5;241;43m*\u001B[39;49m\u001B[43mkwargs\u001B[49m\u001B[43m)\u001B[49m\n\u001B[1;32m     21\u001B[0m \u001B[38;5;28;01mif\u001B[39;00m \u001B[38;5;28mself\u001B[39m\u001B[38;5;241m.\u001B[39mlen \u001B[38;5;241m>\u001B[39m (\u001B[38;5;28mself\u001B[39m\u001B[38;5;241m.\u001B[39mncols\u001B[38;5;241m*\u001B[39m\u001B[38;5;28mself\u001B[39m\u001B[38;5;241m.\u001B[39mnrows):\n\u001B[1;32m     22\u001B[0m     \u001B[38;5;28mprint\u001B[39m(\u001B[38;5;124m\"\u001B[39m\u001B[38;5;124mThe lens of position dictionary is out of range of subplots.\u001B[39m\u001B[38;5;124m\"\u001B[39m)\n",
      "\u001B[0;31mTypeError\u001B[0m: subplots() takes from 0 to 2 positional arguments but 3 were given"
     ]
    }
   ],
   "source": [
    "\"\"\"\n",
    "Show the images and found lens positions.\n",
    "\"\"\"\n",
    "Visual_coadd_DESJ2125_6504 = VisualTemp(\"dataset/data\",\n",
    "                                        position_dict,\n",
    "                                        w=50, h=50,\n",
    "                                        ncols=2,nrows=2,\n",
    "                                        figsize=(10,10))"
   ],
   "metadata": {
    "collapsed": false,
    "pycharm": {
     "name": "#%%\n"
    },
    "ExecuteTime": {
     "end_time": "2023-09-26T03:21:03.959966Z",
     "start_time": "2023-09-26T03:21:03.616122Z"
    }
   }
  }
 ],
 "metadata": {
  "kernelspec": {
   "display_name": "Python 3",
   "language": "python",
   "name": "python3"
  },
  "language_info": {
   "codemirror_mode": {
    "name": "ipython",
    "version": 2
   },
   "file_extension": ".py",
   "mimetype": "text/x-python",
   "name": "python",
   "nbconvert_exporter": "python",
   "pygments_lexer": "ipython2",
   "version": "2.7.6"
  }
 },
 "nbformat": 4,
 "nbformat_minor": 0
}
