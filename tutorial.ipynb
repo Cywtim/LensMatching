{
 "cells": [
  {
   "cell_type": "code",
   "execution_count": 1,
   "outputs": [],
   "source": [
    "import numpy as np\n",
    "import cv2 as cv\n",
    "from numpy import cos, sin\n",
    "from astropy.io import fits\n",
    "from astropy import units,constants\n",
    "from matplotlib import pyplot as plt\n",
    "from FindLensTemplate.FindLensTemplate import FindLensTemplate"
   ],
   "metadata": {
    "collapsed": false,
    "pycharm": {
     "name": "#%%\n"
    },
    "ExecuteTime": {
     "end_time": "2023-09-25T08:14:07.655513Z",
     "start_time": "2023-09-25T08:14:06.010661Z"
    }
   }
  },
  {
   "cell_type": "code",
   "execution_count": 2,
   "outputs": [],
   "source": [
    "coadd_DESJ2125_6504_find = FindLensTemplate(\"dataset/coadd_DESJ2125-6504\", \"Template.fits\")"
   ],
   "metadata": {
    "collapsed": false,
    "pycharm": {
     "name": "#%%\n"
    },
    "ExecuteTime": {
     "end_time": "2023-09-25T08:14:07.664589Z",
     "start_time": "2023-09-25T08:14:07.656568Z"
    }
   }
  },
  {
   "cell_type": "code",
   "execution_count": 3,
   "outputs": [
    {
     "name": "stdout",
     "output_type": "stream",
     "text": [
      "dataset/coadd_DESJ2125-6504/coadd_DESJ2125-6504_i.fits\n",
      "dataset/coadd_DESJ2125-6504/coadd_DESJ2125-6504_g.fits\n",
      "dataset/coadd_DESJ2125-6504/coadd_DESJ2125-6504_r.fits\n"
     ]
    }
   ],
   "source": [
    "position = coadd_DESJ2125_6504_find.MulFileMatch()"
   ],
   "metadata": {
    "collapsed": false,
    "pycharm": {
     "name": "#%%\n"
    },
    "ExecuteTime": {
     "end_time": "2023-09-25T08:14:08.277008Z",
     "start_time": "2023-09-25T08:14:07.661558Z"
    }
   }
  },
  {
   "cell_type": "code",
   "execution_count": 4,
   "outputs": [
    {
     "data": {
      "text/plain": "array([[897, 798],\n       [950, 795],\n       [908, 824]])"
     },
     "execution_count": 4,
     "metadata": {},
     "output_type": "execute_result"
    }
   ],
   "source": [
    "position"
   ],
   "metadata": {
    "collapsed": false,
    "pycharm": {
     "name": "#%%\n"
    },
    "ExecuteTime": {
     "end_time": "2023-09-25T08:14:08.293649Z",
     "start_time": "2023-09-25T08:14:08.282212Z"
    }
   }
  },
  {
   "cell_type": "code",
   "execution_count": 4,
   "outputs": [],
   "source": [],
   "metadata": {
    "collapsed": false,
    "pycharm": {
     "name": "#%%\n"
    },
    "ExecuteTime": {
     "end_time": "2023-09-25T08:14:08.293950Z",
     "start_time": "2023-09-25T08:14:08.286224Z"
    }
   }
  }
 ],
 "metadata": {
  "kernelspec": {
   "display_name": "Python 3",
   "language": "python",
   "name": "python3"
  },
  "language_info": {
   "codemirror_mode": {
    "name": "ipython",
    "version": 2
   },
   "file_extension": ".py",
   "mimetype": "text/x-python",
   "name": "python",
   "nbconvert_exporter": "python",
   "pygments_lexer": "ipython2",
   "version": "2.7.6"
  }
 },
 "nbformat": 4,
 "nbformat_minor": 0
}
